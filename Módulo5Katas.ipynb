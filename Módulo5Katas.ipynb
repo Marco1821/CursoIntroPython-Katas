{
 "cells": [
  {
   "cell_type": "markdown",
   "metadata": {},
   "source": [
    "Ejercicio1 - Utilizar operadores aritméticos"
   ]
  },
  {
   "cell_type": "code",
   "execution_count": null,
   "metadata": {},
   "outputs": [],
   "source": [
    "tierra = 149597870\n",
    "jupiter = 778547200\n",
    "\n",
    "distancia = tierra - jupiter\n",
    "\n",
    "distancia_millas = distancia * 0.621\n",
    "\n",
    "print(\"La distancia entre los planetas es {} km o {} mi\".format(abs(distancia), abs(distancia_millas)))\n"
   ]
  },
  {
   "cell_type": "markdown",
   "metadata": {},
   "source": [
    "Ejercicio 2: convierte cadenas en números y usa valores absolutos"
   ]
  },
  {
   "cell_type": "code",
   "execution_count": null,
   "metadata": {},
   "outputs": [],
   "source": [
    "planeta1 = int(input(\"¿Cual es la distancia del sol a el primer planeta\"))\n",
    "planeta2 = int(input(\"¿Cual es la distancia del sol a el segundo  planeta\"))\n",
    "\n",
    "distancia_km = abs(planeta1 - planeta2)\n",
    "distancia_mi = distancia_km * 0.621\n",
    "\n",
    "print(\"La distancia entre los planetas es {} km o {} mi\".format(distancia_km, distancia_mi))\n",
    "\n"
   ]
  }
 ],
 "metadata": {
  "interpreter": {
   "hash": "1cf357a76219c0b5f02e362d4ddb2d5393e38541256ab48314608b767c99c4f3"
  },
  "kernelspec": {
   "display_name": "Python 3.9.7 64-bit",
   "language": "python",
   "name": "python3"
  },
  "language_info": {
   "codemirror_mode": {
    "name": "ipython",
    "version": 3
   },
   "file_extension": ".py",
   "mimetype": "text/x-python",
   "name": "python",
   "nbconvert_exporter": "python",
   "pygments_lexer": "ipython3",
   "version": "3.9.7"
  },
  "orig_nbformat": 4
 },
 "nbformat": 4,
 "nbformat_minor": 2
}

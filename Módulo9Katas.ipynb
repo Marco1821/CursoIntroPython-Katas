{
 "cells": [
  {
   "cell_type": "markdown",
   "metadata": {},
   "source": [
    "Ejercicio 1: Trabajar con argumentos en funciones"
   ]
  },
  {
   "cell_type": "code",
   "execution_count": null,
   "metadata": {},
   "outputs": [],
   "source": [
    "def informe(tanque1, tanque2, tanque3):\n",
    "    return f\"Informe de combustible\\nTanque 1: {tanque1}\\nTanque 2: {tanque2}\\nTanque 3: {tanque3}\"\n",
    "\n",
    "print(informe(70, 50, 95))\n",
    "\n",
    "def promedio (tanque1, tanque2, tanque3):\n",
    "    promedio = (tanque1 + tanque2 + tanque3)/3\n",
    "    return f\"Combustible promedio: {promedio}\"\n",
    "\n",
    "print(promedio(70, 50, 95))"
   ]
  },
  {
   "cell_type": "markdown",
   "metadata": {},
   "source": [
    "Ejercicio 2: Trabajo con argumentos de palabra clave"
   ]
  },
  {
   "cell_type": "code",
   "execution_count": 16,
   "metadata": {},
   "outputs": [
    {
     "name": "stdout",
     "output_type": "stream",
     "text": [
      "Destino de mision: Luna\n",
      "Tiempo de viaje: 65 minutos\n",
      "Combustible total: 175 litros\n",
      "tanque_interno: 80 litros\n",
      "tanque_externo: 95 litros\n",
      "\n"
     ]
    }
   ],
   "source": [
    "def informe_mision(destino, *minutos, **combustible):\n",
    "    \n",
    "    informe = f\"\"\"Destino de mision: {destino}\n",
    "Tiempo de viaje: {sum(minutos)} minutos\n",
    "Combustible total: {sum(combustible.values())} litros\n",
    "\"\"\"\n",
    "    for tanque, litros in combustible.items():\n",
    "        informe += f\"{tanque}: {litros} litros\\n\"\n",
    "\n",
    "    return informe\n",
    "\n",
    "\n",
    "print(informe_mision(\"Luna\", 15, 50, tanque_interno=80, tanque_externo=95))"
   ]
  }
 ],
 "metadata": {
  "interpreter": {
   "hash": "1cf357a76219c0b5f02e362d4ddb2d5393e38541256ab48314608b767c99c4f3"
  },
  "kernelspec": {
   "display_name": "Python 3.9.7 64-bit",
   "language": "python",
   "name": "python3"
  },
  "language_info": {
   "codemirror_mode": {
    "name": "ipython",
    "version": 3
   },
   "file_extension": ".py",
   "mimetype": "text/x-python",
   "name": "python",
   "nbconvert_exporter": "python",
   "pygments_lexer": "ipython3",
   "version": "3.9.7"
  },
  "orig_nbformat": 4
 },
 "nbformat": 4,
 "nbformat_minor": 2
}

{
 "cells": [
  {
   "cell_type": "markdown",
   "metadata": {},
   "source": [
    "Problema 1"
   ]
  },
  {
   "cell_type": "code",
   "execution_count": 3,
   "metadata": {},
   "outputs": [
    {
     "name": "stdout",
     "output_type": "stream",
     "text": [
      "Un asteroide se acerca a una velocidad de 49 km/s\n"
     ]
    }
   ],
   "source": [
    "velocidad_asteroide = 49\n",
    "\n",
    "if velocidad_asteroide > 25:\n",
    "    print(\"Un asteroide se acerca a una velocidad de \" + str(velocidad_asteroide) + \" km/s\")"
   ]
  },
  {
   "cell_type": "markdown",
   "metadata": {},
   "source": [
    "Problema 2"
   ]
  },
  {
   "cell_type": "code",
   "execution_count": 4,
   "metadata": {},
   "outputs": [
    {
     "name": "stdout",
     "output_type": "stream",
     "text": [
      "No hay nada en el cielo\n"
     ]
    }
   ],
   "source": [
    "velocidad_asteroide = 19 \n",
    "\n",
    "if velocidad_asteroide >= 20:\n",
    "    print(\"Mira arriba, hay un rayo de luz en el cielo\")\n",
    "else:\n",
    "    print(\"No hay nada en el cielo\")"
   ]
  },
  {
   "cell_type": "markdown",
   "metadata": {},
   "source": [
    "Problema 3"
   ]
  },
  {
   "cell_type": "code",
   "execution_count": 2,
   "metadata": {},
   "outputs": [
    {
     "name": "stdout",
     "output_type": "stream",
     "text": [
      "Mira arriba, hay un rayo de luz en el cielo\n"
     ]
    }
   ],
   "source": [
    "dimension_asteroide = 20\n",
    "velocidad_asteroide = 25\n",
    "\n",
    "if velocidad_asteroide > 25 and dimension_asteroide > 25:\n",
    "    print('¡Cuidado un asteroide se dirige a la tirra!')\n",
    "elif velocidad_asteroide >= 20:\n",
    "    print('Mira arriba, hay un rayo de luz en el cielo')\n",
    "else:\n",
    "    print('No hay peligro')\n"
   ]
  }
 ],
 "metadata": {
  "interpreter": {
   "hash": "1cf357a76219c0b5f02e362d4ddb2d5393e38541256ab48314608b767c99c4f3"
  },
  "kernelspec": {
   "display_name": "Python 3.9.7 64-bit",
   "language": "python",
   "name": "python3"
  },
  "language_info": {
   "codemirror_mode": {
    "name": "ipython",
    "version": 3
   },
   "file_extension": ".py",
   "mimetype": "text/x-python",
   "name": "python",
   "nbconvert_exporter": "python",
   "pygments_lexer": "ipython3",
   "version": "3.9.7"
  },
  "orig_nbformat": 4
 },
 "nbformat": 4,
 "nbformat_minor": 2
}

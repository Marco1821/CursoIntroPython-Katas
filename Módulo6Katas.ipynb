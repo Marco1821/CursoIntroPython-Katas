{
 "cells": [
  {
   "cell_type": "markdown",
   "metadata": {},
   "source": [
    "Ejercicio1: Crear y usar listas de Python"
   ]
  },
  {
   "cell_type": "code",
   "execution_count": null,
   "metadata": {},
   "outputs": [],
   "source": [
    "planets = [\"Mercury\", \"Venus\", \"Earth\", \"Mars\", \"Jupiter\", \"Saturn\", \"Uranus\", \"Neptune\"]\n",
    "\n",
    "planets.append(\"Pluto\")\n",
    "\n",
    "print(\"El ultimo planeta es\", planets[-1])"
   ]
  },
  {
   "cell_type": "markdown",
   "metadata": {},
   "source": [
    "Ejercicio 2: Trabajando con datos de una lista"
   ]
  },
  {
   "cell_type": "code",
   "execution_count": null,
   "metadata": {},
   "outputs": [],
   "source": [
    "planets = [\"Mercury\", \"Venus\", \"Earth\", \"Mars\", \"Jupiter\", \"Saturn\", \"Uranus\", \"Neptune\"]\n",
    "\n",
    "planeta = input(\"Ingrese el nombre de un planeta (con la primera letra mayuscula): \")\n",
    "\n",
    "indice = planets.index(planeta)\n",
    "\n",
    "print(\"Los planetas mas cercanos al sol que\", planets[indice], \"son:\", planets[:indice])\n",
    "print(\"Los planetas mas alejados del sol que\", planets[indice], \"son:\", planets[indice+1:])"
   ]
  }
 ],
 "metadata": {
  "interpreter": {
   "hash": "1cf357a76219c0b5f02e362d4ddb2d5393e38541256ab48314608b767c99c4f3"
  },
  "kernelspec": {
   "display_name": "Python 3.9.7 64-bit",
   "language": "python",
   "name": "python3"
  },
  "language_info": {
   "codemirror_mode": {
    "name": "ipython",
    "version": 3
   },
   "file_extension": ".py",
   "mimetype": "text/x-python",
   "name": "python",
   "nbconvert_exporter": "python",
   "pygments_lexer": "ipython3",
   "version": "3.9.7"
  },
  "orig_nbformat": 4
 },
 "nbformat": 4,
 "nbformat_minor": 2
}

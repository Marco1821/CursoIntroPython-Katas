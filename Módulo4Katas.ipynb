{
 "cells": [
  {
   "cell_type": "markdown",
   "metadata": {},
   "source": [
    "Ejercicio 1: Transformar cadenas"
   ]
  },
  {
   "cell_type": "code",
   "execution_count": 2,
   "metadata": {},
   "outputs": [
    {
     "name": "stdout",
     "output_type": "stream",
     "text": [
      " \n",
      "On average, the Moon moves 4cm away from the Earth every year\n",
      " The highest daylight temperature of the Moon is 127 Celcius\n"
     ]
    }
   ],
   "source": [
    "text = \"\"\"Interesting facts about the Moon. The Moon is Earth's only satellite. There are several interesting facts about the Moon and how it affects life here on Earth. \n",
    "On average, the Moon moves 4cm away from the Earth every year. This yearly drift is not significant enough to cause immediate effects on Earth. The highest daylight temperature of the Moon is 127 C.\"\"\"\n",
    "\n",
    "sentences = text.split(\".\")\n",
    "keywords = [\"average\", \"temperature\", \"distance\"]\n",
    "\n",
    "for sentence in sentences:\n",
    "    for word in keywords:\n",
    "        if word in sentence:\n",
    "            if \"C\" in sentence:\n",
    "                sentence = sentence.replace(\"C\", \"Celcius\")\n",
    "            print(sentence)"
   ]
  },
  {
   "cell_type": "markdown",
   "metadata": {},
   "source": [
    "Ejercicio 2: Formateando Cadenas"
   ]
  },
  {
   "cell_type": "code",
   "execution_count": 4,
   "metadata": {},
   "outputs": [
    {
     "name": "stdout",
     "output_type": "stream",
     "text": [
      "Gravity Facts about Ganímedes\n",
      "--------------------------------------------------\n",
      "Planet Name: Marte\n",
      "Gravity on Ganímedes: 1.4300000000000002 m/s2\n",
      "\n"
     ]
    }
   ],
   "source": [
    "name = \"Ganímedes\"\n",
    "gravity = 0.00143\n",
    "planet = \"Marte\"\n",
    "\n",
    "title = \"Gravity Facts about {}\".format(name)\n",
    "\n",
    "template = \"\"\"{}\n",
    "{}\n",
    "Planet Name: {}\n",
    "Gravity on {}: {} m/s2\n",
    "\"\"\".format(title, \"-\" * 50, planet, name, gravity * 1000)\n",
    "\n",
    "print(template)"
   ]
  }
 ],
 "metadata": {
  "interpreter": {
   "hash": "1cf357a76219c0b5f02e362d4ddb2d5393e38541256ab48314608b767c99c4f3"
  },
  "kernelspec": {
   "display_name": "Python 3.9.7 64-bit",
   "language": "python",
   "name": "python3"
  },
  "language_info": {
   "codemirror_mode": {
    "name": "ipython",
    "version": 3
   },
   "file_extension": ".py",
   "mimetype": "text/x-python",
   "name": "python",
   "nbconvert_exporter": "python",
   "pygments_lexer": "ipython3",
   "version": "3.9.7"
  },
  "orig_nbformat": 4
 },
 "nbformat": 4,
 "nbformat_minor": 2
}
